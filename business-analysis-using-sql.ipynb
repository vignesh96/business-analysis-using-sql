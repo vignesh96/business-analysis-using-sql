{
 "cells": [
  {
   "cell_type": "markdown",
   "metadata": {
    "collapsed": true
   },
   "source": [
    "# Importing libraries and setting up functions"
   ]
  },
  {
   "cell_type": "code",
   "execution_count": 3,
   "metadata": {
    "collapsed": true
   },
   "outputs": [],
   "source": [
    "import matplotlib.pyplot as plt\n",
    "import pandas as pd\n",
    "import numpy as np\n",
    "import sqlite3\n",
    "\n",
    "%matplotlib inline"
   ]
  },
  {
   "cell_type": "code",
   "execution_count": 5,
   "metadata": {
    "collapsed": false
   },
   "outputs": [
    {
     "name": "stdout",
     "output_type": "stream",
     "text": [
      "              name   type\n",
      "0            album  table\n",
      "1           artist  table\n",
      "2         customer  table\n",
      "3         employee  table\n",
      "4            genre  table\n",
      "5          invoice  table\n",
      "6     invoice_line  table\n",
      "7       media_type  table\n",
      "8         playlist  table\n",
      "9   playlist_track  table\n",
      "10           track  table\n"
     ]
    }
   ],
   "source": [
    "# takes a SQL query as an argument and returns a pandas dataframe of that query\n",
    "def run_query(q):\n",
    "    with sqlite3.connect('chinook.db') as conn:\n",
    "        return pd.read_sql(q, conn)\n",
    "\n",
    "# takes a SQL command as an argument and executes it using the sqlite module\n",
    "def run_command(c):\n",
    "    with sqlite3.connect('chinook.db') as conn:\n",
    "        conn.isolation_level = None\n",
    "        conn.execute(c)\n",
    "\n",
    "# calls the run_query() function to return a list of all tables and views in the database\n",
    "def show_tables():\n",
    "    return run_query(\"SELECT name, type FROM sqlite_master WHERE type IN ('table','view');\")\n",
    "\n",
    "print(show_tables())"
   ]
  },
  {
   "cell_type": "markdown",
   "metadata": {},
   "source": [
    "# Selecting Albums to purchase\n",
    "<ol>\n",
    "<li>Write a query that returns each genre, with the number of tracks sold in the USA:\n",
    "<ul><li>in absolute numbers\n",
    "<li>in percentages.</ul>\n",
    "<li>Create a plot to show this data.\n",
    "<li>Write a paragraph that interprets the data and makes a recommendation for the three artists whose albums we should purchase for the store, based on sales of tracks from their genres.\n",
    "</ol>"
   ]
  },
  {
   "cell_type": "code",
   "execution_count": 15,
   "metadata": {
    "collapsed": false
   },
   "outputs": [
    {
     "name": "stdout",
     "output_type": "stream",
     "text": [
      "                 genre  number_sold  percent_sold\n",
      "0                 Rock          561      0.533777\n",
      "1   Alternative & Punk          130      0.123692\n",
      "2                Metal          124      0.117983\n",
      "3             R&B/Soul           53      0.050428\n",
      "4                Blues           36      0.034253\n",
      "5          Alternative           35      0.033302\n",
      "6                Latin           22      0.020932\n",
      "7                  Pop           22      0.020932\n",
      "8          Hip Hop/Rap           20      0.019029\n",
      "9                 Jazz           14      0.013321\n",
      "10      Easy Listening           13      0.012369\n",
      "11              Reggae            6      0.005709\n",
      "12   Electronica/Dance            5      0.004757\n",
      "13           Classical            4      0.003806\n",
      "14         Heavy Metal            3      0.002854\n",
      "15          Soundtrack            2      0.001903\n",
      "16            TV Shows            1      0.000951\n"
     ]
    }
   ],
   "source": [
    "# Setting up the desired query\n",
    "\n",
    "albums_purchased_query = \"\"\"\n",
    "WITH usa_tracks_purchased as (\n",
    "        select il.* from invoice_line il\n",
    "        INNER JOIN invoice i on i.invoice_id = il.invoice_id\n",
    "        INNER JOIN customer c on i.customer_id = c.customer_id\n",
    "        WHERE c.country = \"USA\"\n",
    "        )\n",
    "\n",
    "SELECT g.name genre,\n",
    "       count(utp.invoice_line_id) as number_sold,\n",
    "       cast(count(utp.invoice_line_id) as float) / (\n",
    "           select count(*) from usa_tracks_purchased\n",
    "       ) as percent_sold\n",
    "       from usa_tracks_purchased utp \n",
    "       INNER JOIN track t on t.track_id = utp.track_id\n",
    "       INNER JOIN genre g on g.genre_id = t.genre_id\n",
    "       GROUP BY 1\n",
    "       ORDER BY 2 DESC;\n",
    "        \"\"\"\n",
    "\n",
    "# Executing the query to data frame\n",
    "usa_tracks_purchased = run_query(albums_purchased_query)\n",
    "print(usa_tracks_purchased)"
   ]
  },
  {
   "cell_type": "code",
   "execution_count": 27,
   "metadata": {
    "collapsed": false
   },
   "outputs": [
    {
     "data": {
      "text/plain": [
       "<matplotlib.axes._subplots.AxesSubplot at 0x7feb24cadcf8>"
      ]
     },
     "execution_count": 27,
     "metadata": {},
     "output_type": "execute_result"
    },
    {
     "data": {
      "image/png": "[encoded data removed]",
      "text/plain": [
       "<matplotlib.figure.Figure at 0x7feb249b4a58>"
      ]
     },
     "metadata": {},
     "output_type": "display_data"
    }
   ],
   "source": [
    "# Creating plot to show the dataset\n",
    "usa_tracks_purchased.plot(\n",
    "    kind=\"barh\",\n",
    "    x=\"genre\",\n",
    "    y=\"percent_sold\",\n",
    "    use_index=True,\n",
    "    title=\"Genre sold in USA\",\n",
    "    colormap=plt.cm.Accent\n",
    ")"
   ]
  },
  {
   "cell_type": "markdown",
   "metadata": {},
   "source": [
    "From the plot, it can be seen that tracks that are of Rock genre are sold out the most and TV show tracks are not much of a sale. Rock tracks make up more than 50 % of the sales. The tracks recommended for the three authors are - \n",
    "\n",
    "1. Meteor and the Girls\n",
    "2. Red Tone\n",
    "3. Slim Jim Bites \n",
    "\n",
    "This makes up about 17% of the total sales"
   ]
  },
  {
   "cell_type": "markdown",
   "metadata": {},
   "source": [
    "# Analyzing Employee sales performance\n",
    "\n",
    "1. Write a query that finds the total dollar amount of sales assigned to each sales support agent within the company. Add any extra attributes for that employee that you find are relevant to the analysis.\n",
    "2. Create a plot of the results of your query.\n",
    "3. Write a short statement describing your results, and providing a possible interpretation."
   ]
  },
  {
   "cell_type": "code",
   "execution_count": 49,
   "metadata": {
    "collapsed": false
   },
   "outputs": [
    {
     "name": "stdout",
     "output_type": "stream",
     "text": [
      "   employee_name            hire_date  total_sales_amt\n",
      "0   Jane Peacock  2017-04-01 00:00:00          1731.51\n",
      "1  Margaret Park  2017-05-03 00:00:00          1584.00\n",
      "2  Steve Johnson  2017-10-17 00:00:00          1393.92\n"
     ]
    }
   ],
   "source": [
    "# Setting up the desired queries\n",
    "\n",
    "employee_sales_performance_query = \"\"\" SELECT \n",
    "                                            e.first_name || ' ' || e.last_name as employee_name,\n",
    "                                            e.hire_date hire_date, \n",
    "                                            SUM(i.total) total_sales_amt from employee e inner join customer c\n",
    "                                            on e.employee_id = c.support_rep_id inner join invoice i\n",
    "                                            on i.customer_id = c.customer_id\n",
    "                                            group by 1\n",
    "                                    \"\"\"\n",
    "\n",
    "# Running the results\n",
    "employee_sales = run_query(employee_sales_performance_query)\n",
    "print(employee_sales)"
   ]
  },
  {
   "cell_type": "code",
   "execution_count": 50,
   "metadata": {
    "collapsed": false
   },
   "outputs": [
    {
     "data": {
      "text/plain": [
       "<matplotlib.text.Text at 0x7feb2450f5c0>"
      ]
     },
     "execution_count": 50,
     "metadata": {},
     "output_type": "execute_result"
    },
    {
     "data": {
      "image/png": "[encoded data removed]",
      "text/plain": [
       "<matplotlib.figure.Figure at 0x7feb245a84e0>"
      ]
     },
     "metadata": {},
     "output_type": "display_data"
    }
   ],
   "source": [
    "# Plotting the data frame\n",
    "employee_sales.set_index(\"employee_name\", drop=True, inplace=True)\n",
    "employee_sales.sort_values(\"total_sales_amt\", inplace=True)\n",
    "\n",
    "employee_sales.plot(\n",
    "    kind=\"barh\",\n",
    "    legend=False,\n",
    "    title='Employee Sales',\n",
    "    colormap=plt.cm.Accent\n",
    ")\n",
    "\n",
    "plt.ylabel(\"\")"
   ]
  },
  {
   "cell_type": "markdown",
   "metadata": {},
   "source": [
    "Jane Peacock makes the most number of sales in dollars compared to the other 2 employees. This may be due to the fact that the other two employees are hired later than Jane."
   ]
  },
  {
   "cell_type": "code",
   "execution_count": null,
   "metadata": {
    "collapsed": true
   },
   "outputs": [],
   "source": []
  }
 ],
 "metadata": {
  "kernelspec": {
   "display_name": "Python 3",
   "language": "python",
   "name": "python3"
  },
  "language_info": {
   "codemirror_mode": {
    "name": "ipython",
    "version": 3
   },
   "file_extension": ".py",
   "mimetype": "text/x-python",
   "name": "python",
   "nbconvert_exporter": "python",
   "pygments_lexer": "ipython3",
   "version": "3.4.3"
  }
 },
 "nbformat": 4,
 "nbformat_minor": 2
}
